{
 "cells": [
  {
   "cell_type": "markdown",
   "id": "c56cf06e-c3b1-4e82-bda5-81198b65bd55",
   "metadata": {},
   "source": [
    "Data fitting - process of plotting a series of data points and drawing the best fit line to understand the relationship between the variables."
   ]
  },
  {
   "cell_type": "markdown",
   "id": "4682a842-a550-431c-bd4a-b66c5bd0168e",
   "metadata": {},
   "source": [
    "Linear Regression tries to find the line that best fits the datapoint and gives a linear relationship between the two variables."
   ]
  },
  {
   "cell_type": "markdown",
   "id": "d92143e7-75d3-4358-ad8d-0c5776aa3f9b",
   "metadata": {},
   "source": [
    "- Overfitting - A scenario where the machine learning model tries to learn from the details along with the noise in the data and tries to fit each data point on the curve.\n",
    "As the model has very less flexibility, it fails to predict new data points and thus the model rejects every new data point during prediction."
   ]
  },
  {
   "cell_type": "markdown",
   "id": "7deb683d-9e9d-4ce0-ad39-5ddfa5cf5257",
   "metadata": {},
   "source": [
    "- Underfitting - A scenario where a machine learning model can neither learn the relationship between variables in the data nor predict or classify a new data point."
   ]
  },
  {
   "cell_type": "markdown",
   "id": "7ae533f6-ef8a-4f44-a82d-dcdfd77e68ef",
   "metadata": {},
   "source": [
    "- Good fit - A line or a curve that best fits the data is neither overfitting nor underfitting models but is just right."
   ]
  },
  {
   "cell_type": "markdown",
   "id": "7cbb5c64-1a71-4385-b1f4-5f473351464b",
   "metadata": {},
   "source": [
    "Regularization techniques are used to calibrate the linear regression models in order to minimize the adjusted loss function and prevent overfitting or underfitting. They include (a)Ridge Regularization(L2) and (b)Lasso Regularization(L1)."
   ]
  },
  {
   "cell_type": "markdown",
   "id": "4acdbc32-4803-46ab-b458-b2707190a64b",
   "metadata": {},
   "source": [
    " - Ridge Regression - It modifies the overfitted or underfitted model by adding the penalty equivalent to the sum of the squares of the magnitude of coefficients."
   ]
  },
  {
   "cell_type": "markdown",
   "id": "1bcfe766-d938-43b7-bbf5-5ab8e129657d",
   "metadata": {},
   "source": [
    "- Lasso Regression - It modifies the overfitted or underfitted models by adding the penalty equivalent to the sum of the absolute values of coefficients. (Does not square like the Ridge)"
   ]
  },
  {
   "cell_type": "code",
   "execution_count": 1,
   "id": "51d4e7b4-651b-4984-b1d0-f94c07441d16",
   "metadata": {},
   "outputs": [],
   "source": [
    "import pandas as pd\n",
    "import numpy as np\n",
    "import matplotlib.pyplot as plt\n",
    "from sklearn import datasets\n",
    "from sklearn.model_selection import train_test_split\n",
    "from sklearn.linear_model import LinearRegression"
   ]
  },
  {
   "cell_type": "code",
   "execution_count": 3,
   "id": "54458c22-2767-49f7-abf0-3a3224b8354d",
   "metadata": {},
   "outputs": [],
   "source": [
    "#load pre-defined wine dataset\n",
    "wine_dataset = datasets.load_wine()\n",
    "# print(wine_dataset.data)\n",
    "# print(wine_dataset.feature_names)"
   ]
  },
  {
   "cell_type": "code",
   "execution_count": 8,
   "id": "a9134a8a-2716-4422-8ca8-f3253b2a0068",
   "metadata": {},
   "outputs": [],
   "source": []
  }
 ],
 "metadata": {
  "kernelspec": {
   "display_name": "Python 3 (ipykernel)",
   "language": "python",
   "name": "python3"
  },
  "language_info": {
   "codemirror_mode": {
    "name": "ipython",
    "version": 3
   },
   "file_extension": ".py",
   "mimetype": "text/x-python",
   "name": "python",
   "nbconvert_exporter": "python",
   "pygments_lexer": "ipython3",
   "version": "3.11.7"
  }
 },
 "nbformat": 4,
 "nbformat_minor": 5
}
