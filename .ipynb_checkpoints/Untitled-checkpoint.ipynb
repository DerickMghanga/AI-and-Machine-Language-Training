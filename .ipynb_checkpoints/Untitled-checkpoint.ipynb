{
 "cells": [
  {
   "cell_type": "code",
   "execution_count": 2,
   "id": "f7d02dc9-12a7-4713-85b1-aa00984a8f2f",
   "metadata": {},
   "outputs": [],
   "source": [
    "# packages for data analysis\n",
    "import numpy as np\n",
    "import pandas as pd\n",
    "\n",
    "from sklearn import svm\n",
    "\n",
    "# visualize your data\n",
    "import matplotlib.pyplot as plt\n",
    "import seaborn as sns; sns.set(font_scale=1.2)\n",
    "\n",
    "%matplotlib inline"
   ]
  },
  {
   "cell_type": "code",
   "execution_count": 4,
   "id": "7d9b2f09-f761-402b-9a79-d1f82d42a644",
   "metadata": {},
   "outputs": [
    {
     "name": "stdout",
     "output_type": "stream",
     "text": [
      "   Index          User Id First Name Last Name     Sex  \\\n",
      "0      1  88F7B33d2bcf9f5     Shelby   Terrell    Male   \n",
      "1      2  f90cD3E76f1A9b9    Phillip   Summers  Female   \n",
      "2      3  DbeAb8CcdfeFC2c   Kristine    Travis    Male   \n",
      "3      4  A31Bee3c201ef58    Yesenia  Martinez    Male   \n",
      "4      5  1bA7A3dc874da3c       Lori      Todd    Male   \n",
      "\n",
      "                        Email                   Phone Date of birth  \\\n",
      "0        elijah57@example.net  001-084-906-7849x73518    1945-10-26   \n",
      "1       bethany14@example.com       214.112.6044x4913    1910-03-24   \n",
      "2       bthompson@example.com            277.609.7938    1992-07-02   \n",
      "3   kaitlinkaiser@example.com            584.094.6111    2017-08-03   \n",
      "4  buchananmanuel@example.net       689-207-3558x7233    1938-12-01   \n",
      "\n",
      "            Job Title  \n",
      "0     Games developer  \n",
      "1      Phytotherapist  \n",
      "2           Homeopath  \n",
      "3   Market researcher  \n",
      "4  Veterinary surgeon  \n"
     ]
    }
   ],
   "source": [
    "people = pd.read_csv(\"CarPrice.csv\")\n",
    "print(people.head())"
   ]
  },
  {
   "cell_type": "code",
   "execution_count": 7,
   "id": "b0696db0-a333-40ac-8770-688cd196eed2",
   "metadata": {},
   "outputs": [],
   "source": [
    "# plot our data\n",
    "# sns.lmplot(\"Sex\", \"Job Title\", data=people[0], hue=\"Type\", palette=\"Set1\", fit_reg=False, scatter_kws={\"s\":70});"
   ]
  }
 ],
 "metadata": {
  "kernelspec": {
   "display_name": "Python 3 (ipykernel)",
   "language": "python",
   "name": "python3"
  },
  "language_info": {
   "codemirror_mode": {
    "name": "ipython",
    "version": 3
   },
   "file_extension": ".py",
   "mimetype": "text/x-python",
   "name": "python",
   "nbconvert_exporter": "python",
   "pygments_lexer": "ipython3",
   "version": "3.11.7"
  }
 },
 "nbformat": 4,
 "nbformat_minor": 5
}
