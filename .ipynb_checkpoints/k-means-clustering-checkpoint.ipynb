{
 "cells": [
  {
   "cell_type": "raw",
   "id": "e33b24bc-1c38-411d-9cd0-d29981ab1e54",
   "metadata": {},
   "source": [
    "K-means Clustering is an example of unsupervised learning.\n",
    "It is used when you have unlabeled data, to find clusters in the data based on feature similarity."
   ]
  },
  {
   "cell_type": "code",
   "execution_count": 5,
   "id": "85dea308-8125-4c59-995e-83a9b07c6758",
   "metadata": {},
   "outputs": [],
   "source": [
    "# packages for data analysis\n",
    "import numpy as np\n",
    "import pandas as pd\n",
    "\n",
    "from sklearn import svm\n",
    "\n",
    "# visualize your data\n",
    "import matplotlib.pyplot as plt\n",
    "import seaborn as sns; sns.set(font_scale=1.2)\n",
    "\n",
    "# allows charts to appear in the notebook\n",
    "%matplotlib inline"
   ]
  },
  {
   "cell_type": "code",
   "execution_count": 24,
   "id": "131dea6a-0e41-48ce-be87-6a4c89b0e468",
   "metadata": {},
   "outputs": [],
   "source": [
    "# Import the dataset\n",
    "dataset = pd.read_csv(\"cars.csv\")"
   ]
  },
  {
   "cell_type": "code",
   "execution_count": 31,
   "id": "66a5773d-6780-4a15-b822-31ddf47abd4a",
   "metadata": {},
   "outputs": [
    {
     "data": {
      "text/plain": [
       "(261, 8)"
      ]
     },
     "execution_count": 31,
     "metadata": {},
     "output_type": "execute_result"
    }
   ],
   "source": [
    "dataset.shape"
   ]
  },
  {
   "cell_type": "code",
   "execution_count": 32,
   "id": "b6ce3521-50d5-4b92-9c74-ad8ac191a025",
   "metadata": {},
   "outputs": [
    {
     "data": {
      "text/plain": [
       "mpg             0\n",
       " cylinders      0\n",
       " cubicinches    0\n",
       " hp             0\n",
       " weightlbs      0\n",
       " time-to-60     0\n",
       " year           0\n",
       " brand          0\n",
       "dtype: int64"
      ]
     },
     "execution_count": 32,
     "metadata": {},
     "output_type": "execute_result"
    }
   ],
   "source": [
    "#check for null value \n",
    "dataset.isnull().sum()"
   ]
  },
  {
   "cell_type": "code",
   "execution_count": 33,
   "id": "1e1089f8-0289-4730-b2c7-0be0cab8c1d6",
   "metadata": {},
   "outputs": [
    {
     "data": {
      "text/plain": [
       "Index(['mpg', ' cylinders', ' cubicinches', ' hp', ' weightlbs', ' time-to-60',\n",
       "       ' year', ' brand'],\n",
       "      dtype='object')"
      ]
     },
     "execution_count": 33,
     "metadata": {},
     "output_type": "execute_result"
    }
   ],
   "source": [
    "#lets print column names of dataset\n",
    "dataset.columns"
   ]
  },
  {
   "cell_type": "code",
   "execution_count": 34,
   "id": "fc59921d-4975-4f4d-8824-ec523b96854b",
   "metadata": {},
   "outputs": [
    {
     "data": {
      "text/plain": [
       "Index(['mpg', 'cylinders', 'cubicinches', 'hp', 'weightlbs', 'time-to-60',\n",
       "       'year', 'brand'],\n",
       "      dtype='object')"
      ]
     },
     "execution_count": 34,
     "metadata": {},
     "output_type": "execute_result"
    }
   ],
   "source": [
    "#column names have a space before the name so rename it\n",
    "for col in dataset.columns:\n",
    "    dataset.rename(columns={col: col.strip()}, inplace=True)\n",
    "dataset.columns"
   ]
  },
  {
   "cell_type": "code",
   "execution_count": 35,
   "id": "bb97c037-b58e-4b1e-9793-635ca54cfe2a",
   "metadata": {},
   "outputs": [
    {
     "name": "stdout",
     "output_type": "stream",
     "text": [
      "<class 'pandas.core.frame.DataFrame'>\n",
      "RangeIndex: 261 entries, 0 to 260\n",
      "Data columns (total 8 columns):\n",
      " #   Column       Non-Null Count  Dtype  \n",
      "---  ------       --------------  -----  \n",
      " 0   mpg          261 non-null    float64\n",
      " 1   cylinders    261 non-null    int64  \n",
      " 2   cubicinches  261 non-null    object \n",
      " 3   hp           261 non-null    int64  \n",
      " 4   weightlbs    261 non-null    object \n",
      " 5   time-to-60   261 non-null    int64  \n",
      " 6   year         261 non-null    int64  \n",
      " 7   brand        261 non-null    object \n",
      "dtypes: float64(1), int64(4), object(3)\n",
      "memory usage: 16.4+ KB\n"
     ]
    }
   ],
   "source": [
    "# check columns data types\n",
    "dataset.info()"
   ]
  },
  {
   "cell_type": "code",
   "execution_count": 36,
   "id": "798a84fe-6d87-4d9e-9fc9-0e8f6400d5f2",
   "metadata": {},
   "outputs": [
    {
     "data": {
      "text/plain": [
       "mpg            0\n",
       "cylinders      0\n",
       "cubicinches    0\n",
       "hp             0\n",
       "weightlbs      0\n",
       "time-to-60     0\n",
       "year           0\n",
       "brand          0\n",
       "dtype: int64"
      ]
     },
     "execution_count": 36,
     "metadata": {},
     "output_type": "execute_result"
    }
   ],
   "source": [
    "#check for null value again\n",
    "dataset.isna().sum()"
   ]
  },
  {
   "cell_type": "code",
   "execution_count": 37,
   "id": "fe2f241b-0995-43c6-9920-cb85cdbf616b",
   "metadata": {},
   "outputs": [
    {
     "data": {
      "text/plain": [
       "0    97\n",
       "Name: cubicinches, dtype: object"
      ]
     },
     "execution_count": 37,
     "metadata": {},
     "output_type": "execute_result"
    }
   ],
   "source": [
    "dataset['cubicinches'].mode()"
   ]
  },
  {
   "cell_type": "code",
   "execution_count": 50,
   "id": "47e8d4c5-8c24-4132-93db-7b6941fbb866",
   "metadata": {},
   "outputs": [],
   "source": [
    "# change columns type from object to numeric\n",
    "dataset['cubicinches'] = pd.to_numeric(dataset['cubicinches'], errors='coerce')\n",
    "dataset['weightlbs'] = pd.to_numeric(dataset['weightlbs'], errors='coerce')"
   ]
  },
  {
   "cell_type": "code",
   "execution_count": 51,
   "id": "a02f58cf-7b6e-4ef1-b07a-6051957bdc83",
   "metadata": {},
   "outputs": [
    {
     "name": "stdout",
     "output_type": "stream",
     "text": [
      "<class 'pandas.core.frame.DataFrame'>\n",
      "RangeIndex: 261 entries, 0 to 260\n",
      "Data columns (total 8 columns):\n",
      " #   Column       Non-Null Count  Dtype  \n",
      "---  ------       --------------  -----  \n",
      " 0   mpg          261 non-null    float64\n",
      " 1   cylinders    261 non-null    int64  \n",
      " 2   cubicinches  261 non-null    float64\n",
      " 3   hp           261 non-null    int64  \n",
      " 4   weightlbs    261 non-null    float64\n",
      " 5   time-to-60   261 non-null    int64  \n",
      " 6   year         261 non-null    int64  \n",
      " 7   brand        261 non-null    object \n",
      "dtypes: float64(3), int64(4), object(1)\n",
      "memory usage: 16.4+ KB\n"
     ]
    }
   ],
   "source": [
    "dataset.info()"
   ]
  },
  {
   "cell_type": "code",
   "execution_count": 43,
   "id": "6d1e8689-b57f-4463-83fd-22bd9946ee6d",
   "metadata": {},
   "outputs": [
    {
     "data": {
      "text/plain": [
       "0    97.0\n",
       "Name: cubicinches, dtype: float64"
      ]
     },
     "execution_count": 43,
     "metadata": {},
     "output_type": "execute_result"
    }
   ],
   "source": [
    "dataset['cubicinches'].mode()"
   ]
  },
  {
   "cell_type": "code",
   "execution_count": 65,
   "id": "f3ea3ac7-78b9-40cd-88ff-276e27e3ab97",
   "metadata": {},
   "outputs": [],
   "source": [
    "dataset['cubicinches']= dataset['cubicinches'].fillna(dataset['cubicinches'].mode()[0])\n",
    "dataset['weightlbs'] = dataset['weightlbs'].fillna(dataset['weightlbs'].mean())"
   ]
  },
  {
   "cell_type": "code",
   "execution_count": 66,
   "id": "c5ec0676-e713-41ea-83f4-0edb65d5980d",
   "metadata": {},
   "outputs": [
    {
     "name": "stdout",
     "output_type": "stream",
     "text": [
      "0\n",
      "0\n",
      "0\n",
      "0\n",
      "0\n",
      "0\n",
      "0\n"
     ]
    },
    {
     "name": "stderr",
     "output_type": "stream",
     "text": [
      "C:\\Users\\Admin\\AppData\\Local\\Temp\\ipykernel_13020\\4207926116.py:6: SettingWithCopyWarning: \n",
      "A value is trying to be set on a copy of a slice from a DataFrame.\n",
      "Try using .loc[row_indexer,col_indexer] = value instead\n",
      "\n",
      "See the caveats in the documentation: https://pandas.pydata.org/pandas-docs/stable/user_guide/indexing.html#returning-a-view-versus-a-copy\n",
      "  X[i] = X[i].fillna(int(X[i].mean()))\n"
     ]
    }
   ],
   "source": [
    "# remove the brand column since it has strings\n",
    "X = dataset[dataset.columns[:-1]]\n",
    "\n",
    "# eliminating null values in columns with the mean of the column\n",
    "for i in X.columns:\n",
    "    X[i] = X[i].fillna(int(X[i].mean()))\n",
    "for i in X.columns:\n",
    "    print(X[i].isnull().sum())"
   ]
  },
  {
   "cell_type": "code",
   "execution_count": 67,
   "id": "7390942a-4a05-4e84-bc74-b77fa6d5e065",
   "metadata": {},
   "outputs": [
    {
     "data": {
      "text/plain": [
       "mpg            0\n",
       "cylinders      0\n",
       "cubicinches    0\n",
       "hp             0\n",
       "weightlbs      0\n",
       "time-to-60     0\n",
       "year           0\n",
       "dtype: int64"
      ]
     },
     "execution_count": 67,
     "metadata": {},
     "output_type": "execute_result"
    }
   ],
   "source": [
    "#check for null value again\n",
    "X.isna().sum()"
   ]
  },
  {
   "cell_type": "code",
   "execution_count": null,
   "id": "90c733fc-ed5f-4f1b-9abf-1de9d36b1ddc",
   "metadata": {},
   "outputs": [],
   "source": [
    "# using the elbow method to find the optimal numbers of clusters\n",
    "\n",
    "from sklearn.cluster import KMeans\n",
    "\n",
    "# WSS (Within sum of squares) - sum of squared distance between each member of the cluster\n",
    "# and its centroid\n",
    "wcss = []\n",
    "\n",
    "# train our AI eleven times\n",
    "for i in range(0, 11):\n",
    "    kmeans = KMeans(n_clusters=i,init='k-means++',max_iter=300,n_init=10,random_state=0)\n",
    "    kmeans.fit()"
   ]
  },
  {
   "cell_type": "code",
   "execution_count": null,
   "id": "278339e0-c681-4beb-942f-365e37f145ca",
   "metadata": {},
   "outputs": [],
   "source": []
  }
 ],
 "metadata": {
  "kernelspec": {
   "display_name": "Python 3 (ipykernel)",
   "language": "python",
   "name": "python3"
  },
  "language_info": {
   "codemirror_mode": {
    "name": "ipython",
    "version": 3
   },
   "file_extension": ".py",
   "mimetype": "text/x-python",
   "name": "python",
   "nbconvert_exporter": "python",
   "pygments_lexer": "ipython3",
   "version": "3.11.7"
  }
 },
 "nbformat": 4,
 "nbformat_minor": 5
}
