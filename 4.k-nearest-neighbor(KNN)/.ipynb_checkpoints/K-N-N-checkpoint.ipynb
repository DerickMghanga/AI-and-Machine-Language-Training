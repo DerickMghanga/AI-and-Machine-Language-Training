{
 "cells": [
  {
   "cell_type": "raw",
   "id": "42db6117-cb50-4179-823a-fc4e088528a8",
   "metadata": {},
   "source": [
    "K Nearest Neighbors (KNN) - is one of the simpliest Machine Language algorithm mostly used to classify a daata point based on how its neighbors are classified."
   ]
  }
 ],
 "metadata": {
  "kernelspec": {
   "display_name": "Python 3 (ipykernel)",
   "language": "python",
   "name": "python3"
  },
  "language_info": {
   "codemirror_mode": {
    "name": "ipython",
    "version": 3
   },
   "file_extension": ".py",
   "mimetype": "text/x-python",
   "name": "python",
   "nbconvert_exporter": "python",
   "pygments_lexer": "ipython3",
   "version": "3.11.7"
  }
 },
 "nbformat": 4,
 "nbformat_minor": 5
}
