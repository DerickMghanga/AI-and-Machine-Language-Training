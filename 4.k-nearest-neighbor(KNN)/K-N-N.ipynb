{
 "cells": [
  {
   "cell_type": "markdown",
   "id": "7c2f2377-c276-4d56-a672-cf8ec568903c",
   "metadata": {},
   "source": [
    "K Nearest Neighbors (KNN) - is one of the simpliest Supervised Machine Learning algorithm mostly used to classify a data point based on how its neighbors are classified."
   ]
  },
  {
   "cell_type": "markdown",
   "id": "0da91846-df5e-49cb-9880-6ab53957e136",
   "metadata": {},
   "source": [
    "Project Objective: Predict whether a person has diabetes or not."
   ]
  },
  {
   "cell_type": "code",
   "execution_count": 3,
   "id": "012e6a0f-da26-4403-812e-9ad5d9a1d1f1",
   "metadata": {},
   "outputs": [],
   "source": [
    "import pandas as pd\n",
    "import numpy as np\n",
    "\n",
    "from sklearn.model_selection import train_test_split\n",
    "from sklearn.preprocessing import StandardScaler\n",
    "from sklearn.neighbors import KNeighborsClassifier\n",
    "from sklearn.metrics import confusion_matrix, f1_score, accuracy_score"
   ]
  },
  {
   "cell_type": "code",
   "execution_count": null,
   "id": "bb423227-af58-4297-9854-dd47c9d6bbe5",
   "metadata": {},
   "outputs": [],
   "source": []
  }
 ],
 "metadata": {
  "kernelspec": {
   "display_name": "Python 3 (ipykernel)",
   "language": "python",
   "name": "python3"
  },
  "language_info": {
   "codemirror_mode": {
    "name": "ipython",
    "version": 3
   },
   "file_extension": ".py",
   "mimetype": "text/x-python",
   "name": "python",
   "nbconvert_exporter": "python",
   "pygments_lexer": "ipython3",
   "version": "3.11.7"
  }
 },
 "nbformat": 4,
 "nbformat_minor": 5
}
